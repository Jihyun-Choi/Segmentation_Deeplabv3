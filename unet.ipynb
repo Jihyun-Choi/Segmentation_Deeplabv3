{
  "cells": [
    {
      "cell_type": "code",
      "execution_count": 1,
      "metadata": {
        "id": "P4_JX2Y_mCKy"
      },
      "outputs": [],
      "source": [
        "import os\n",
        "import numpy as np\n",
        "import cv2\n",
        "from glob import glob\n",
        "from sklearn.model_selection import train_test_split\n",
        "import tensorflow as tf\n",
        "from tensorflow.keras.models import Model\n",
        "from tensorflow.keras.layers import Conv2D, BatchNormalization, Activation, MaxPool2D, Conv2DTranspose, Concatenate, Input\n",
        "from tensorflow.keras.callbacks import ModelCheckpoint, ReduceLROnPlateau, CSVLogger, EarlyStopping\n",
        "import matplotlib.pyplot as plt\n",
        "from tqdm import tqdm\n",
        "import urllib\n",
        "import IPython"
      ]
    },
    {
      "cell_type": "code",
      "execution_count": 2,
      "metadata": {
        "id": "QjfbtHkf41uB"
      },
      "outputs": [],
      "source": [
        "def conv_block(inputs, num_filters):\n",
        "    x = Conv2D(num_filters, 3, padding='same')(inputs)\n",
        "    x = BatchNormalization()(x)\n",
        "    x = Activation(\"relu\")(x)\n",
        "\n",
        "    x = Conv2D(num_filters, 3, padding='same')(x)\n",
        "    x = BatchNormalization()(x)\n",
        "    x = Activation(\"relu\")(x)\n",
        "\n",
        "    return x"
      ]
    },
    {
      "cell_type": "code",
      "execution_count": 3,
      "metadata": {
        "id": "gWNpiquM43pV"
      },
      "outputs": [],
      "source": [
        "def encoder_block(inputs, num_filters):\n",
        "    x = conv_block(inputs, num_filters)\n",
        "    p = MaxPool2D((2, 2))(x) \n",
        "    return x, p"
      ]
    },
    {
      "cell_type": "code",
      "execution_count": 4,
      "metadata": {
        "id": "sW636ApJ46-x"
      },
      "outputs": [],
      "source": [
        "def decoder_block(inputs, skip_features, num_filters):\n",
        "    x = Conv2DTranspose(num_filters, (2, 2), strides=2, padding='same')(inputs)\n",
        "    x = Concatenate()([x, skip_features])\n",
        "    x = conv_block(x, num_filters)\n",
        "    return x"
      ]
    },
    {
      "cell_type": "code",
      "execution_count": 5,
      "metadata": {
        "id": "zoHESYH949u8"
      },
      "outputs": [],
      "source": [
        "def unet(input_shape):\n",
        "    inputs = Input(input_shape)\n",
        "\n",
        "    \"\"\" Encoder \"\"\"\n",
        "    s1, p1 = encoder_block(inputs, 64)\n",
        "    s2, p2 = encoder_block(p1, 128)\n",
        "    s3, p3 = encoder_block(p2, 256)\n",
        "    s4, p4 = encoder_block(p3, 512)\n",
        "    b1 = conv_block(p4, 1024)\n",
        "\n",
        "    \"\"\" Decoder \"\"\"\n",
        "    d1 = decoder_block(b1, s4, 512)\n",
        "    d2 = decoder_block(d1, s3, 256)\n",
        "    d3 = decoder_block(d2, s2, 128)\n",
        "    d4 = decoder_block(d3, s1, 64)\n",
        "\n",
        "    \"\"\" Output \"\"\"\n",
        "    outputs = Conv2D(1, (1, 1), padding=\"same\", activation=\"sigmoid\")(d4)\n",
        "    return Model(inputs, outputs, name=\"U-Net\")"
      ]
    },
    {
      "cell_type": "code",
      "execution_count": 6,
      "metadata": {
        "id": "Z5LDRAYM7CEn"
      },
      "outputs": [],
      "source": [
        "input_shape = (256, 256, 3)\n",
        "model = unet(input_shape)"
      ]
    },
    {
      "cell_type": "code",
      "execution_count": 7,
      "metadata": {
        "colab": {
          "base_uri": "https://localhost:8080/"
        },
        "id": "r9i6YCAt7JT3",
        "outputId": "1f2abd2e-64fa-4cfb-abdc-8dc031b69a9c"
      },
      "outputs": [
        {
          "output_type": "stream",
          "name": "stdout",
          "text": [
            "Model: \"U-Net\"\n",
            "__________________________________________________________________________________________________\n",
            " Layer (type)                   Output Shape         Param #     Connected to                     \n",
            "==================================================================================================\n",
            " input_1 (InputLayer)           [(None, 256, 256, 3  0           []                               \n",
            "                                )]                                                                \n",
            "                                                                                                  \n",
            " conv2d (Conv2D)                (None, 256, 256, 64  1792        ['input_1[0][0]']                \n",
            "                                )                                                                 \n",
            "                                                                                                  \n",
            " batch_normalization (BatchNorm  (None, 256, 256, 64  256        ['conv2d[0][0]']                 \n",
            " alization)                     )                                                                 \n",
            "                                                                                                  \n",
            " activation (Activation)        (None, 256, 256, 64  0           ['batch_normalization[0][0]']    \n",
            "                                )                                                                 \n",
            "                                                                                                  \n",
            " conv2d_1 (Conv2D)              (None, 256, 256, 64  36928       ['activation[0][0]']             \n",
            "                                )                                                                 \n",
            "                                                                                                  \n",
            " batch_normalization_1 (BatchNo  (None, 256, 256, 64  256        ['conv2d_1[0][0]']               \n",
            " rmalization)                   )                                                                 \n",
            "                                                                                                  \n",
            " activation_1 (Activation)      (None, 256, 256, 64  0           ['batch_normalization_1[0][0]']  \n",
            "                                )                                                                 \n",
            "                                                                                                  \n",
            " max_pooling2d (MaxPooling2D)   (None, 128, 128, 64  0           ['activation_1[0][0]']           \n",
            "                                )                                                                 \n",
            "                                                                                                  \n",
            " conv2d_2 (Conv2D)              (None, 128, 128, 12  73856       ['max_pooling2d[0][0]']          \n",
            "                                8)                                                                \n",
            "                                                                                                  \n",
            " batch_normalization_2 (BatchNo  (None, 128, 128, 12  512        ['conv2d_2[0][0]']               \n",
            " rmalization)                   8)                                                                \n",
            "                                                                                                  \n",
            " activation_2 (Activation)      (None, 128, 128, 12  0           ['batch_normalization_2[0][0]']  \n",
            "                                8)                                                                \n",
            "                                                                                                  \n",
            " conv2d_3 (Conv2D)              (None, 128, 128, 12  147584      ['activation_2[0][0]']           \n",
            "                                8)                                                                \n",
            "                                                                                                  \n",
            " batch_normalization_3 (BatchNo  (None, 128, 128, 12  512        ['conv2d_3[0][0]']               \n",
            " rmalization)                   8)                                                                \n",
            "                                                                                                  \n",
            " activation_3 (Activation)      (None, 128, 128, 12  0           ['batch_normalization_3[0][0]']  \n",
            "                                8)                                                                \n",
            "                                                                                                  \n",
            " max_pooling2d_1 (MaxPooling2D)  (None, 64, 64, 128)  0          ['activation_3[0][0]']           \n",
            "                                                                                                  \n",
            " conv2d_4 (Conv2D)              (None, 64, 64, 256)  295168      ['max_pooling2d_1[0][0]']        \n",
            "                                                                                                  \n",
            " batch_normalization_4 (BatchNo  (None, 64, 64, 256)  1024       ['conv2d_4[0][0]']               \n",
            " rmalization)                                                                                     \n",
            "                                                                                                  \n",
            " activation_4 (Activation)      (None, 64, 64, 256)  0           ['batch_normalization_4[0][0]']  \n",
            "                                                                                                  \n",
            " conv2d_5 (Conv2D)              (None, 64, 64, 256)  590080      ['activation_4[0][0]']           \n",
            "                                                                                                  \n",
            " batch_normalization_5 (BatchNo  (None, 64, 64, 256)  1024       ['conv2d_5[0][0]']               \n",
            " rmalization)                                                                                     \n",
            "                                                                                                  \n",
            " activation_5 (Activation)      (None, 64, 64, 256)  0           ['batch_normalization_5[0][0]']  \n",
            "                                                                                                  \n",
            " max_pooling2d_2 (MaxPooling2D)  (None, 32, 32, 256)  0          ['activation_5[0][0]']           \n",
            "                                                                                                  \n",
            " conv2d_6 (Conv2D)              (None, 32, 32, 512)  1180160     ['max_pooling2d_2[0][0]']        \n",
            "                                                                                                  \n",
            " batch_normalization_6 (BatchNo  (None, 32, 32, 512)  2048       ['conv2d_6[0][0]']               \n",
            " rmalization)                                                                                     \n",
            "                                                                                                  \n",
            " activation_6 (Activation)      (None, 32, 32, 512)  0           ['batch_normalization_6[0][0]']  \n",
            "                                                                                                  \n",
            " conv2d_7 (Conv2D)              (None, 32, 32, 512)  2359808     ['activation_6[0][0]']           \n",
            "                                                                                                  \n",
            " batch_normalization_7 (BatchNo  (None, 32, 32, 512)  2048       ['conv2d_7[0][0]']               \n",
            " rmalization)                                                                                     \n",
            "                                                                                                  \n",
            " activation_7 (Activation)      (None, 32, 32, 512)  0           ['batch_normalization_7[0][0]']  \n",
            "                                                                                                  \n",
            " max_pooling2d_3 (MaxPooling2D)  (None, 16, 16, 512)  0          ['activation_7[0][0]']           \n",
            "                                                                                                  \n",
            " conv2d_8 (Conv2D)              (None, 16, 16, 1024  4719616     ['max_pooling2d_3[0][0]']        \n",
            "                                )                                                                 \n",
            "                                                                                                  \n",
            " batch_normalization_8 (BatchNo  (None, 16, 16, 1024  4096       ['conv2d_8[0][0]']               \n",
            " rmalization)                   )                                                                 \n",
            "                                                                                                  \n",
            " activation_8 (Activation)      (None, 16, 16, 1024  0           ['batch_normalization_8[0][0]']  \n",
            "                                )                                                                 \n",
            "                                                                                                  \n",
            " conv2d_9 (Conv2D)              (None, 16, 16, 1024  9438208     ['activation_8[0][0]']           \n",
            "                                )                                                                 \n",
            "                                                                                                  \n",
            " batch_normalization_9 (BatchNo  (None, 16, 16, 1024  4096       ['conv2d_9[0][0]']               \n",
            " rmalization)                   )                                                                 \n",
            "                                                                                                  \n",
            " activation_9 (Activation)      (None, 16, 16, 1024  0           ['batch_normalization_9[0][0]']  \n",
            "                                )                                                                 \n",
            "                                                                                                  \n",
            " conv2d_transpose (Conv2DTransp  (None, 32, 32, 512)  2097664    ['activation_9[0][0]']           \n",
            " ose)                                                                                             \n",
            "                                                                                                  \n",
            " concatenate (Concatenate)      (None, 32, 32, 1024  0           ['conv2d_transpose[0][0]',       \n",
            "                                )                                 'activation_7[0][0]']           \n",
            "                                                                                                  \n",
            " conv2d_10 (Conv2D)             (None, 32, 32, 512)  4719104     ['concatenate[0][0]']            \n",
            "                                                                                                  \n",
            " batch_normalization_10 (BatchN  (None, 32, 32, 512)  2048       ['conv2d_10[0][0]']              \n",
            " ormalization)                                                                                    \n",
            "                                                                                                  \n",
            " activation_10 (Activation)     (None, 32, 32, 512)  0           ['batch_normalization_10[0][0]'] \n",
            "                                                                                                  \n",
            " conv2d_11 (Conv2D)             (None, 32, 32, 512)  2359808     ['activation_10[0][0]']          \n",
            "                                                                                                  \n",
            " batch_normalization_11 (BatchN  (None, 32, 32, 512)  2048       ['conv2d_11[0][0]']              \n",
            " ormalization)                                                                                    \n",
            "                                                                                                  \n",
            " activation_11 (Activation)     (None, 32, 32, 512)  0           ['batch_normalization_11[0][0]'] \n",
            "                                                                                                  \n",
            " conv2d_transpose_1 (Conv2DTran  (None, 64, 64, 256)  524544     ['activation_11[0][0]']          \n",
            " spose)                                                                                           \n",
            "                                                                                                  \n",
            " concatenate_1 (Concatenate)    (None, 64, 64, 512)  0           ['conv2d_transpose_1[0][0]',     \n",
            "                                                                  'activation_5[0][0]']           \n",
            "                                                                                                  \n",
            " conv2d_12 (Conv2D)             (None, 64, 64, 256)  1179904     ['concatenate_1[0][0]']          \n",
            "                                                                                                  \n",
            " batch_normalization_12 (BatchN  (None, 64, 64, 256)  1024       ['conv2d_12[0][0]']              \n",
            " ormalization)                                                                                    \n",
            "                                                                                                  \n",
            " activation_12 (Activation)     (None, 64, 64, 256)  0           ['batch_normalization_12[0][0]'] \n",
            "                                                                                                  \n",
            " conv2d_13 (Conv2D)             (None, 64, 64, 256)  590080      ['activation_12[0][0]']          \n",
            "                                                                                                  \n",
            " batch_normalization_13 (BatchN  (None, 64, 64, 256)  1024       ['conv2d_13[0][0]']              \n",
            " ormalization)                                                                                    \n",
            "                                                                                                  \n",
            " activation_13 (Activation)     (None, 64, 64, 256)  0           ['batch_normalization_13[0][0]'] \n",
            "                                                                                                  \n",
            " conv2d_transpose_2 (Conv2DTran  (None, 128, 128, 12  131200     ['activation_13[0][0]']          \n",
            " spose)                         8)                                                                \n",
            "                                                                                                  \n",
            " concatenate_2 (Concatenate)    (None, 128, 128, 25  0           ['conv2d_transpose_2[0][0]',     \n",
            "                                6)                                'activation_3[0][0]']           \n",
            "                                                                                                  \n",
            " conv2d_14 (Conv2D)             (None, 128, 128, 12  295040      ['concatenate_2[0][0]']          \n",
            "                                8)                                                                \n",
            "                                                                                                  \n",
            " batch_normalization_14 (BatchN  (None, 128, 128, 12  512        ['conv2d_14[0][0]']              \n",
            " ormalization)                  8)                                                                \n",
            "                                                                                                  \n",
            " activation_14 (Activation)     (None, 128, 128, 12  0           ['batch_normalization_14[0][0]'] \n",
            "                                8)                                                                \n",
            "                                                                                                  \n",
            " conv2d_15 (Conv2D)             (None, 128, 128, 12  147584      ['activation_14[0][0]']          \n",
            "                                8)                                                                \n",
            "                                                                                                  \n",
            " batch_normalization_15 (BatchN  (None, 128, 128, 12  512        ['conv2d_15[0][0]']              \n",
            " ormalization)                  8)                                                                \n",
            "                                                                                                  \n",
            " activation_15 (Activation)     (None, 128, 128, 12  0           ['batch_normalization_15[0][0]'] \n",
            "                                8)                                                                \n",
            "                                                                                                  \n",
            " conv2d_transpose_3 (Conv2DTran  (None, 256, 256, 64  32832      ['activation_15[0][0]']          \n",
            " spose)                         )                                                                 \n",
            "                                                                                                  \n",
            " concatenate_3 (Concatenate)    (None, 256, 256, 12  0           ['conv2d_transpose_3[0][0]',     \n",
            "                                8)                                'activation_1[0][0]']           \n",
            "                                                                                                  \n",
            " conv2d_16 (Conv2D)             (None, 256, 256, 64  73792       ['concatenate_3[0][0]']          \n",
            "                                )                                                                 \n",
            "                                                                                                  \n",
            " batch_normalization_16 (BatchN  (None, 256, 256, 64  256        ['conv2d_16[0][0]']              \n",
            " ormalization)                  )                                                                 \n",
            "                                                                                                  \n",
            " activation_16 (Activation)     (None, 256, 256, 64  0           ['batch_normalization_16[0][0]'] \n",
            "                                )                                                                 \n",
            "                                                                                                  \n",
            " conv2d_17 (Conv2D)             (None, 256, 256, 64  36928       ['activation_16[0][0]']          \n",
            "                                )                                                                 \n",
            "                                                                                                  \n",
            " batch_normalization_17 (BatchN  (None, 256, 256, 64  256        ['conv2d_17[0][0]']              \n",
            " ormalization)                  )                                                                 \n",
            "                                                                                                  \n",
            " activation_17 (Activation)     (None, 256, 256, 64  0           ['batch_normalization_17[0][0]'] \n",
            "                                )                                                                 \n",
            "                                                                                                  \n",
            " conv2d_18 (Conv2D)             (None, 256, 256, 1)  65          ['activation_17[0][0]']          \n",
            "                                                                                                  \n",
            "==================================================================================================\n",
            "Total params: 31,055,297\n",
            "Trainable params: 31,043,521\n",
            "Non-trainable params: 11,776\n",
            "__________________________________________________________________________________________________\n"
          ]
        }
      ],
      "source": [
        "model.summary()"
      ]
    },
    {
      "cell_type": "code",
      "execution_count": 8,
      "metadata": {
        "id": "Bp68exUj7eDm"
      },
      "outputs": [],
      "source": [
        "def load_data(dataset_path):\n",
        "    images = sorted(glob(os.path.join(dataset_path, \"images/*\")))\n",
        "    masks = sorted(glob(os.path.join(dataset_path, \"masks/*\")))\n",
        "    train_x, test_x = train_test_split(images, test_size=0.2, random_state=42)\n",
        "    train_y, test_y = train_test_split(masks, test_size=0.2, random_state=42)\n",
        "    return (train_x, train_y), (test_x, test_y)"
      ]
    },
    {
      "cell_type": "code",
      "execution_count": 9,
      "metadata": {
        "id": "xRRoKLTsY_LC"
      },
      "outputs": [],
      "source": [
        "def read_image(path):\n",
        "    x = cv2.imread(path, cv2.IMREAD_COLOR)\n",
        "    x = cv2.resize(x, (256, 256))\n",
        "    x = x/255.0\n",
        "    x = x.astype(np.float32)\n",
        "    # (256, 256, 3)\n",
        "    return x"
      ]
    },
    {
      "cell_type": "code",
      "execution_count": 10,
      "metadata": {
        "id": "x6a1sitAZADd"
      },
      "outputs": [],
      "source": [
        "def read_mask(path):\n",
        "    x = cv2.imread(path, cv2.IMREAD_GRAYSCALE)\n",
        "    x = cv2.resize(x, (256, 256))\n",
        "    x = x.astype(np.float32)\n",
        "    x = np.expand_dims(x, axis=-1)\n",
        "    return x"
      ]
    },
    {
      "cell_type": "code",
      "execution_count": 11,
      "metadata": {
        "id": "dgDwYDnBZA5Y"
      },
      "outputs": [],
      "source": [
        "def preprocess(image_path, mask_path):\n",
        "    def f(image_path, mask_path):\n",
        "        image_path = image_path.decode()\n",
        "        mask_path = mask_path.decode()\n",
        "        x = read_image(image_path)\n",
        "        y = read_mask(mask_path)\n",
        "        return x, y\n",
        "    image, mask = tf.numpy_function(f, [image_path, mask_path], [tf.float32, tf.float32])\n",
        "    image.set_shape([256, 256, 3])\n",
        "    mask.set_shape([256, 256, 1])\n",
        "    return image, mask"
      ]
    },
    {
      "cell_type": "code",
      "execution_count": 12,
      "metadata": {
        "id": "vZhM9ixWZCDe"
      },
      "outputs": [],
      "source": [
        "def tf_dataset(images, masks, batch=8):\n",
        "    dataset = tf.data.Dataset.from_tensor_slices((images, masks))\n",
        "    dataset = dataset.shuffle(buffer_size=5000)\n",
        "    dataset = dataset.map(preprocess)\n",
        "    dataset = dataset.batch(batch)\n",
        "    dataset = dataset.prefetch(2)\n",
        "    return dataset"
      ]
    },
    {
      "cell_type": "code",
      "execution_count": 13,
      "metadata": {
        "colab": {
          "base_uri": "https://localhost:8080/"
        },
        "id": "2xTqKLJ4ZDdP",
        "outputId": "9d7721d3-cc46-4e2c-a53c-e3c17459a181"
      },
      "outputs": [
        {
          "output_type": "stream",
          "name": "stdout",
          "text": [
            "Mounted at /content/drive\n"
          ]
        }
      ],
      "source": [
        "from google.colab import drive\n",
        "drive.mount('/content/drive')"
      ]
    },
    {
      "cell_type": "code",
      "execution_count": 14,
      "metadata": {
        "id": "oye5W0sbZLjm"
      },
      "outputs": [],
      "source": [
        "import os\n",
        "os.chdir(\"/content/drive/MyDrive/segmentation/\")"
      ]
    },
    {
      "cell_type": "code",
      "execution_count": 15,
      "metadata": {
        "colab": {
          "base_uri": "https://localhost:8080/"
        },
        "id": "ADA_N3WCZL3p",
        "outputId": "9919b6ca-6a8f-472c-865b-7538ab3a6db9"
      },
      "outputs": [
        {
          "output_type": "stream",
          "name": "stdout",
          "text": [
            "/content/drive/.shortcut-targets-by-id/1jqGQ5npgYpOYpNYnZXmjO_UakxxxNGAl/segmentation\n"
          ]
        }
      ],
      "source": [
        "import os\n",
        "\n",
        "#현재 폴더 경로; 작업 폴더 기준\n",
        "print(os.getcwd())"
      ]
    },
    {
      "cell_type": "code",
      "execution_count": 16,
      "metadata": {
        "colab": {
          "base_uri": "https://localhost:8080/"
        },
        "id": "npc4C-4uZORR",
        "outputId": "e623cdaf-8534-4a22-9c8d-96d639650c00"
      },
      "outputs": [
        {
          "output_type": "stream",
          "name": "stdout",
          "text": [
            "Epoch 1/10\n",
            "568/568 [==============================] - ETA: 0s - loss: 0.3956 - mean_io_u: 0.3722 - recall: 0.5899 - precision: 0.6749\n",
            "Epoch 1: saving model to ./unet.h5\n",
            "568/568 [==============================] - 3704s 6s/step - loss: 0.3956 - mean_io_u: 0.3722 - recall: 0.5899 - precision: 0.6749 - val_loss: 0.6126 - val_mean_io_u: 0.3741 - val_recall: 0.7778 - val_precision: 0.5368 - lr: 1.0000e-04\n",
            "Epoch 2/10\n",
            "568/568 [==============================] - ETA: 0s - loss: 0.3070 - mean_io_u: 0.3722 - recall: 0.7083 - precision: 0.7578\n",
            "Epoch 2: saving model to ./unet.h5\n",
            "568/568 [==============================] - 337s 594ms/step - loss: 0.3070 - mean_io_u: 0.3722 - recall: 0.7083 - precision: 0.7578 - val_loss: 0.4128 - val_mean_io_u: 0.3761 - val_recall: 0.8413 - val_precision: 0.6376 - lr: 1.0000e-04\n",
            "Epoch 3/10\n",
            "568/568 [==============================] - ETA: 0s - loss: 0.2710 - mean_io_u: 0.3722 - recall: 0.7519 - precision: 0.7889\n",
            "Epoch 3: saving model to ./unet.h5\n",
            "568/568 [==============================] - 337s 593ms/step - loss: 0.2710 - mean_io_u: 0.3722 - recall: 0.7519 - precision: 0.7889 - val_loss: 0.2741 - val_mean_io_u: 0.3722 - val_recall: 0.7537 - val_precision: 0.7800 - lr: 1.0000e-04\n",
            "Epoch 4/10\n",
            "568/568 [==============================] - ETA: 0s - loss: 0.2484 - mean_io_u: 0.3722 - recall: 0.7780 - precision: 0.8067\n",
            "Epoch 4: saving model to ./unet.h5\n",
            "568/568 [==============================] - 337s 594ms/step - loss: 0.2484 - mean_io_u: 0.3722 - recall: 0.7780 - precision: 0.8067 - val_loss: 0.2466 - val_mean_io_u: 0.3721 - val_recall: 0.7382 - val_precision: 0.8380 - lr: 1.0000e-04\n",
            "Epoch 5/10\n",
            "568/568 [==============================] - ETA: 0s - loss: 0.2294 - mean_io_u: 0.3722 - recall: 0.8010 - precision: 0.8239\n",
            "Epoch 5: saving model to ./unet.h5\n",
            "568/568 [==============================] - 338s 594ms/step - loss: 0.2294 - mean_io_u: 0.3722 - recall: 0.8010 - precision: 0.8239 - val_loss: 0.2760 - val_mean_io_u: 0.3722 - val_recall: 0.9077 - val_precision: 0.7151 - lr: 1.0000e-04\n",
            "Epoch 6/10\n",
            "568/568 [==============================] - ETA: 0s - loss: 0.2093 - mean_io_u: 0.3722 - recall: 0.8240 - precision: 0.8398\n",
            "Epoch 6: saving model to ./unet.h5\n",
            "568/568 [==============================] - 336s 592ms/step - loss: 0.2093 - mean_io_u: 0.3722 - recall: 0.8240 - precision: 0.8398 - val_loss: 0.2209 - val_mean_io_u: 0.3721 - val_recall: 0.7847 - val_precision: 0.8538 - lr: 1.0000e-04\n",
            "Epoch 7/10\n",
            "568/568 [==============================] - ETA: 0s - loss: 0.1958 - mean_io_u: 0.3722 - recall: 0.8376 - precision: 0.8489\n",
            "Epoch 7: saving model to ./unet.h5\n",
            "568/568 [==============================] - 335s 590ms/step - loss: 0.1958 - mean_io_u: 0.3722 - recall: 0.8376 - precision: 0.8489 - val_loss: 0.2330 - val_mean_io_u: 0.3721 - val_recall: 0.9094 - val_precision: 0.7618 - lr: 1.0000e-04\n",
            "Epoch 8/10\n",
            "568/568 [==============================] - ETA: 0s - loss: 0.1863 - mean_io_u: 0.3722 - recall: 0.8515 - precision: 0.8531\n",
            "Epoch 8: saving model to ./unet.h5\n",
            "568/568 [==============================] - 338s 594ms/step - loss: 0.1863 - mean_io_u: 0.3722 - recall: 0.8515 - precision: 0.8531 - val_loss: 0.2124 - val_mean_io_u: 0.3723 - val_recall: 0.8180 - val_precision: 0.8442 - lr: 1.0000e-04\n",
            "Epoch 9/10\n",
            "568/568 [==============================] - ETA: 0s - loss: 0.1703 - mean_io_u: 0.3722 - recall: 0.8641 - precision: 0.8688\n",
            "Epoch 9: saving model to ./unet.h5\n",
            "568/568 [==============================] - 335s 590ms/step - loss: 0.1703 - mean_io_u: 0.3722 - recall: 0.8641 - precision: 0.8688 - val_loss: 0.2036 - val_mean_io_u: 0.3721 - val_recall: 0.8693 - val_precision: 0.8207 - lr: 1.0000e-04\n",
            "Epoch 10/10\n",
            "568/568 [==============================] - ETA: 0s - loss: 0.1581 - mean_io_u: 0.3722 - recall: 0.8758 - precision: 0.8771\n",
            "Epoch 10: saving model to ./unet.h5\n",
            "568/568 [==============================] - 335s 589ms/step - loss: 0.1581 - mean_io_u: 0.3722 - recall: 0.8758 - precision: 0.8771 - val_loss: 0.2003 - val_mean_io_u: 0.3721 - val_recall: 0.9013 - val_precision: 0.8036 - lr: 1.0000e-04\n"
          ]
        },
        {
          "output_type": "execute_result",
          "data": {
            "text/plain": [
              "<keras.callbacks.History at 0x7fd17436e670>"
            ]
          },
          "metadata": {},
          "execution_count": 16
        }
      ],
      "source": [
        "\"\"\" Hyperparameters \"\"\"\n",
        "dataset_path = \".\"\n",
        "input_shape = (256, 256, 3)\n",
        "batch_size = 8\n",
        "epochs = 10\n",
        "lr = 1e-4\n",
        "model_path = \"./unet.h5\"\n",
        "csv_path = \"./unetdata.csv\"\n",
        "\n",
        "\"\"\" Loading the dataset \"\"\"\n",
        "(train_x, train_y), (test_x, test_y) = load_data(dataset_path)\n",
        "\n",
        "train_dataset = tf_dataset(train_x, train_y, batch=batch_size)\n",
        "valid_dataset = tf_dataset(test_x, test_y, batch=batch_size)\n",
        "\n",
        "\"\"\" Model \"\"\"\n",
        "model = unet(input_shape)\n",
        "model.compile(\n",
        "    loss=\"binary_crossentropy\",\n",
        "    optimizer=tf.keras.optimizers.Adam(lr),\n",
        "    metrics=[\n",
        "        tf.keras.metrics.MeanIoU(num_classes=2),\n",
        "        tf.keras.metrics.Recall(),\n",
        "        tf.keras.metrics.Precision()\n",
        "    ]\n",
        ")\n",
        "\n",
        "callbacks = [\n",
        "    ModelCheckpoint(model_path, monitor=\"val_loss\", verbose=1),\n",
        "    ReduceLROnPlateau(monitor=\"val_loss\", patience=5, factor=0.1, verbose=1),\n",
        "    CSVLogger(csv_path),\n",
        "    EarlyStopping(monitor=\"val_loss\", patience=10)\n",
        "]\n",
        "\n",
        "train_steps = len(train_x)//batch_size\n",
        "if len(train_x) % batch_size != 0:\n",
        "    train_steps += 1\n",
        "    \n",
        "valid_steps = len(test_x)//batch_size\n",
        "if len(test_x) % batch_size != 0:\n",
        "    valid_steps += 1\n",
        "\n",
        "model.fit(\n",
        "    train_dataset,\n",
        "    validation_data=valid_dataset,\n",
        "    epochs = epochs,\n",
        "    steps_per_epoch=train_steps,\n",
        "    validation_steps=valid_steps,\n",
        "    callbacks=callbacks\n",
        ")"
      ]
    }
  ],
  "metadata": {
    "accelerator": "GPU",
    "colab": {
      "provenance": []
    },
    "gpuClass": "standard",
    "kernelspec": {
      "display_name": "Python 3",
      "name": "python3"
    },
    "language_info": {
      "name": "python"
    }
  },
  "nbformat": 4,
  "nbformat_minor": 0
}